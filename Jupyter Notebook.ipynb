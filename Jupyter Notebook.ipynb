{
 "cells": [
  {
   "cell_type": "code",
   "execution_count": null,
   "id": "394ff536",
   "metadata": {},
   "outputs": [
    {
     "name": "stdout",
     "output_type": "stream",
     "text": [
      "1D Array:\n",
      " [ 0  1  2  3  4  5  6  7  8  9 10 11 12 13 14 15 16 17 18 19 20]\n",
      "\n",
      "2D Array (4x5):\n",
      " [[86 93 15 75 34]\n",
      " [57 30 86 93 83]\n",
      " [43 36 50 88 85]\n",
      " [90 71 70 55 24]]\n",
      "\n",
      "Identity Matrix (3x3):\n",
      " [[1. 0. 0.]\n",
      " [0. 1. 0.]\n",
      " [0. 0. 1.]]\n",
      "\n",
      "Mean of 2D array: 63.2\n",
      "Median of 2D array: 70.5\n",
      "Standard Deviation of 2D array: 25.005199459312458\n",
      "\n",
      "Second row: [57 30 86 93 83]\n",
      "Third column: [15 86 50 70]\n",
      "\n",
      "Another 4x5 Array:\n",
      " [[2 7 8 3 9]\n",
      " [9 7 5 9 1]\n",
      " [2 5 7 8 2]\n",
      " [1 8 9 9 1]]\n",
      "\n",
      "Element-wise Multiplication:\n",
      " [[172 651 120 225 306]\n",
      " [513 210 430 837  83]\n",
      " [ 86 180 350 704 170]\n",
      " [ 90 568 630 495  24]]\n"
     ]
    }
   ],
   "source": [
    "import numpy as np\n",
    "\n",
    "# 1. Create arrays\n",
    "arr1 = np.arange(0, 21)  # 1D array from 0 to 20\n",
    "arr2 = np.random.randint(10, 100, size=(4, 5))  # 2D array 4x5 random ints 10–99\n",
    "identity_matrix = np.eye(3)  # 3x3 identity matrix\n",
    "\n",
    "print(\"1D Array:\\n\", arr1)\n",
    "print(\"\\n2D Array (4x5):\\n\", arr2)\n",
    "print(\"\\nIdentity Matrix (3x3):\\n\", identity_matrix)\n",
    "\n",
    "# 2. Mean, median, std of 2D array\n",
    "print(\"\\nMean of 2D array:\", np.mean(arr2))\n",
    "print(\"Median of 2D array:\", np.median(arr2))\n",
    "print(\"Standard Deviation of 2D array:\", np.std(arr2))\n",
    "\n",
    "# 3. Slice operations\n",
    "print(\"\\nSecond row:\", arr2[1])\n",
    "print(\"Third column:\", arr2[:, 2])\n",
    "\n",
    "# 4. Element-wise multiplication\n",
    "arr3 = np.random.randint(1, 10, size=(4, 5))\n",
    "print(\"\\nAnother 4x5 Array:\\n\", arr3)\n",
    "print(\"\\nElement-wise Multiplication:\\n\", arr2 * arr3)\n",
    "\n"
   ]
  },
  {
   "cell_type": "code",
   "execution_count": 2,
   "id": "31fa650a",
   "metadata": {},
   "outputs": [
    {
     "name": "stdout",
     "output_type": "stream",
     "text": [
      "Original 4x4 Matrix:\n",
      " [[ 1  2  3  4]\n",
      " [ 5  6  7  8]\n",
      " [ 9 10 11 12]\n",
      " [13 14 15 16]]\n",
      "\n",
      "After Broadcasting Addition:\n",
      " [[ 2  4  6  8]\n",
      " [ 6  8 10 12]\n",
      " [10 12 14 16]\n",
      " [14 16 18 20]]\n",
      "\n",
      "Flattened 1D Array:\n",
      " [ 2  4  6  8  6  8 10 12 10 12 14 16 14 16 18 20]\n"
     ]
    }
   ],
   "source": [
    " #Broadcasting and Reshaping\n",
    "\n",
    "# 1. Create 1D array and reshape\n",
    "import numpy as np\n",
    "\n",
    "arr = np.arange(1, 17)  # 1D array from 1 to 16\n",
    "matrix = arr.reshape(4, 4)\n",
    "print(\"Original 4x4 Matrix:\\n\", matrix)\n",
    "\n",
    "# 2. Add [1,2,3,4] to each row (broadcasting)\n",
    "add_arr = np.array([1, 2, 3, 4])\n",
    "result = matrix + add_arr\n",
    "print(\"\\nAfter Broadcasting Addition:\\n\", result)\n",
    "\n",
    "# 3. Flatten back to 1D\n",
    "flattened = result.flatten()\n",
    "print(\"\\nFlattened 1D Array:\\n\", flattened)\n"
   ]
  }
 ],
 "metadata": {
  "kernelspec": {
   "display_name": "base",
   "language": "python",
   "name": "python3"
  },
  "language_info": {
   "codemirror_mode": {
    "name": "ipython",
    "version": 3
   },
   "file_extension": ".py",
   "mimetype": "text/x-python",
   "name": "python",
   "nbconvert_exporter": "python",
   "pygments_lexer": "ipython3",
   "version": "3.13.2"
  }
 },
 "nbformat": 4,
 "nbformat_minor": 5
}
