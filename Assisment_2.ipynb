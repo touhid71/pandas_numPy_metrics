{
  "nbformat": 4,
  "nbformat_minor": 0,
  "metadata": {
    "colab": {
      "provenance": [],
      "authorship_tag": "ABX9TyPNHlCpjQ1xwbQzC+Dmwscb",
      "include_colab_link": true
    },
    "kernelspec": {
      "name": "python3",
      "display_name": "Python 3"
    },
    "language_info": {
      "name": "python"
    }
  },
  "cells": [
    {
      "cell_type": "markdown",
      "metadata": {
        "id": "view-in-github",
        "colab_type": "text"
      },
      "source": [
        "<a href=\"https://colab.research.google.com/github/touhid71/pandas_numPy_metrics/blob/master/Assisment_2.ipynb\" target=\"_parent\"><img src=\"https://colab.research.google.com/assets/colab-badge.svg\" alt=\"Open In Colab\"/></a>"
      ]
    },
    {
      "cell_type": "code",
      "execution_count": 1,
      "metadata": {
        "colab": {
          "base_uri": "https://localhost:8080/"
        },
        "id": "ii-tiTCPFKTR",
        "outputId": "0686a7ca-6e2e-405f-d8d0-fb32ff715168"
      },
      "outputs": [
        {
          "output_type": "stream",
          "name": "stdout",
          "text": [
            "1D Array:\n",
            " [ 0  1  2  3  4  5  6  7  8  9 10 11 12 13 14 15 16 17 18 19 20]\n",
            "\n",
            "2D Array (4x5):\n",
            " [[52 60 74 71 47]\n",
            " [20 37 19 30 64]\n",
            " [26 31 60 14 60]\n",
            " [77 73 48 57 66]]\n",
            "\n",
            "Identity Matrix (3x3):\n",
            " [[1. 0. 0.]\n",
            " [0. 1. 0.]\n",
            " [0. 0. 1.]]\n",
            "\n",
            "Mean of 2D array: 49.3\n",
            "Median of 2D array: 54.5\n",
            "Standard Deviation of 2D array: 19.68019308848366\n",
            "\n",
            "Second row: [20 37 19 30 64]\n",
            "Third column: [74 19 60 48]\n",
            "\n",
            "Another 4x5 Array:\n",
            " [[3 2 4 2 9]\n",
            " [6 9 2 2 1]\n",
            " [9 4 2 3 8]\n",
            " [8 1 2 3 6]]\n",
            "\n",
            "Element-wise Multiplication:\n",
            " [[156 120 296 142 423]\n",
            " [120 333  38  60  64]\n",
            " [234 124 120  42 480]\n",
            " [616  73  96 171 396]]\n"
          ]
        }
      ],
      "source": [
        "import numpy as np\n",
        "\n",
        "# 1. Create arrays\n",
        "arr1 = np.arange(0, 21)  # 1D array from 0 to 20\n",
        "arr2 = np.random.randint(10, 100, size=(4, 5))  # 2D array 4x5 random ints 10–99\n",
        "identity_matrix = np.eye(3)  # 3x3 identity matrix\n",
        "\n",
        "print(\"1D Array:\\n\", arr1)\n",
        "print(\"\\n2D Array (4x5):\\n\", arr2)\n",
        "print(\"\\nIdentity Matrix (3x3):\\n\", identity_matrix)\n",
        "\n",
        "# 2. Mean, median, std of 2D array\n",
        "print(\"\\nMean of 2D array:\", np.mean(arr2))\n",
        "print(\"Median of 2D array:\", np.median(arr2))\n",
        "print(\"Standard Deviation of 2D array:\", np.std(arr2))\n",
        "\n",
        "# 3. Slice operations\n",
        "print(\"\\nSecond row:\", arr2[1])\n",
        "print(\"Third column:\", arr2[:, 2])\n",
        "\n",
        "# 4. Element-wise multiplication\n",
        "arr3 = np.random.randint(1, 10, size=(4, 5))\n",
        "print(\"\\nAnother 4x5 Array:\\n\", arr3)\n",
        "print(\"\\nElement-wise Multiplication:\\n\", arr2 * arr3)"
      ]
    },
    {
      "cell_type": "code",
      "source": [
        "#Broadcasting and Reshaping\n",
        "\n",
        "# 1. Create 1D array and reshape\n",
        "import numpy as np\n",
        "\n",
        "arr = np.arange(1, 17)  # 1D array from 1 to 16\n",
        "matrix = arr.reshape(4, 4)\n",
        "print(\"Original 4x4 Matrix:\\n\", matrix)\n",
        "\n",
        "# 2. Add [1,2,3,4] to each row (broadcasting)\n",
        "add_arr = np.array([1, 2, 3, 4])\n",
        "result = matrix + add_arr\n",
        "print(\"\\nAfter Broadcasting Addition:\\n\", result)\n",
        "\n",
        "# 3. Flatten back to 1D\n",
        "flattened = result.flatten()\n",
        "print(\"\\nFlattened 1D Array:\\n\", flattened)"
      ],
      "metadata": {
        "colab": {
          "base_uri": "https://localhost:8080/"
        },
        "id": "lhWM9YS9FwKo",
        "outputId": "2acd4851-241b-469a-fe2d-458f1af2b7d3"
      },
      "execution_count": 2,
      "outputs": [
        {
          "output_type": "stream",
          "name": "stdout",
          "text": [
            "Original 4x4 Matrix:\n",
            " [[ 1  2  3  4]\n",
            " [ 5  6  7  8]\n",
            " [ 9 10 11 12]\n",
            " [13 14 15 16]]\n",
            "\n",
            "After Broadcasting Addition:\n",
            " [[ 2  4  6  8]\n",
            " [ 6  8 10 12]\n",
            " [10 12 14 16]\n",
            " [14 16 18 20]]\n",
            "\n",
            "Flattened 1D Array:\n",
            " [ 2  4  6  8  6  8 10 12 10 12 14 16 14 16 18 20]\n"
          ]
        }
      ]
    },
    {
      "cell_type": "code",
      "source": [
        "# Pandas – Data Manipulation(Working with DataFrames)\n",
        "import pandas as pd\n",
        "\n",
        "# 1. Create DataFrame\n",
        "data = {\n",
        "    \"Name\": [\"Alice\", \"Bob\", \"Charlie\", \"Diana\", \"Evan\"],\n",
        "    \"Age\": [25, 30, 28, 35, 40],\n",
        "    \"Department\": [\"IT\", \"HR\", \"IT\", \"Marketing\", \"HR\"],\n",
        "    \"Salary\": [50000, 45000, 72000, 58000, 60000]\n",
        "}\n",
        "\n",
        "df = pd.DataFrame(data)\n",
        "print(\"Original DataFrame:\\n\", df)\n",
        "\n",
        "# 2. Add Bonus column (10% of salary)\n",
        "df[\"Bonus\"] = df[\"Salary\"] * 0.10\n",
        "print(\"\\nDataFrame with Bonus:\\n\", df)\n",
        "\n",
        "# 3. Filter HR employees\n",
        "hr_employees = df[df[\"Department\"] == \"HR\"]\n",
        "print(\"\\nEmployees in HR Department:\\n\", hr_employees)\n",
        "\n",
        "# 4. Average salary by department\n",
        "avg_salary = df.groupby(\"Department\")[\"Salary\"].mean()\n",
        "print(\"\\nAverage Salary by Department:\\n\", avg_salary)\n",
        "\n",
        "# 5. Save to CSV\n",
        "df.to_csv(\"employees.csv\", index=False)\n",
        "print(\"\\n✅ DataFrame saved as 'employees.csv'\")"
      ],
      "metadata": {
        "colab": {
          "base_uri": "https://localhost:8080/"
        },
        "id": "t6Px7F5hF3bh",
        "outputId": "2a31e3e7-761e-43fa-9c08-0b05db4e0b1d"
      },
      "execution_count": 3,
      "outputs": [
        {
          "output_type": "stream",
          "name": "stdout",
          "text": [
            "Original DataFrame:\n",
            "       Name  Age Department  Salary\n",
            "0    Alice   25         IT   50000\n",
            "1      Bob   30         HR   45000\n",
            "2  Charlie   28         IT   72000\n",
            "3    Diana   35  Marketing   58000\n",
            "4     Evan   40         HR   60000\n",
            "\n",
            "DataFrame with Bonus:\n",
            "       Name  Age Department  Salary   Bonus\n",
            "0    Alice   25         IT   50000  5000.0\n",
            "1      Bob   30         HR   45000  4500.0\n",
            "2  Charlie   28         IT   72000  7200.0\n",
            "3    Diana   35  Marketing   58000  5800.0\n",
            "4     Evan   40         HR   60000  6000.0\n",
            "\n",
            "Employees in HR Department:\n",
            "    Name  Age Department  Salary   Bonus\n",
            "1   Bob   30         HR   45000  4500.0\n",
            "4  Evan   40         HR   60000  6000.0\n",
            "\n",
            "Average Salary by Department:\n",
            " Department\n",
            "HR           52500.0\n",
            "IT           61000.0\n",
            "Marketing    58000.0\n",
            "Name: Salary, dtype: float64\n",
            "\n",
            "✅ DataFrame saved as 'employees.csv'\n"
          ]
        }
      ]
    },
    {
      "cell_type": "code",
      "source": [
        "#  Data Cleaning & Analysis\n",
        "import seaborn as sns\n",
        "\n",
        "# Load sample dataset\n",
        "df_titanic = sns.load_dataset(\"titanic\")\n",
        "\n",
        "# 1. First 5 and last 5 rows\n",
        "print(\"First 5 rows:\\n\", df_titanic.head())\n",
        "print(\"\\nLast 5 rows:\\n\", df_titanic.tail())\n",
        "\n",
        "# 2. Shape\n",
        "print(\"\\nShape of dataset:\", df_titanic.shape)\n",
        "\n",
        "# 3. Columns and data types\n",
        "print(\"\\nColumns and Data Types:\\n\", df_titanic.dtypes)\n",
        "\n",
        "# 4. Handle missing values (fill with median/most frequent)\n",
        "df_titanic[\"age\"].fillna(df_titanic[\"age\"].median(), inplace=True)\n",
        "df_titanic[\"embarked\"].fillna(df_titanic[\"embarked\"].mode()[0], inplace=True)\n",
        "df_titanic.dropna(subset=[\"fare\"], inplace=True)\n",
        "\n",
        "# 5. Basic statistics\n",
        "print(\"\\nBasic Statistics:\\n\", df_titanic.describe())\n",
        "\n",
        "print(\"\\n✅ Data Cleaning Completed.\")"
      ],
      "metadata": {
        "colab": {
          "base_uri": "https://localhost:8080/"
        },
        "id": "iUfW5xazGFrk",
        "outputId": "4b6d6e0e-3b6f-495e-dcf4-e10ef45a8c0c"
      },
      "execution_count": 4,
      "outputs": [
        {
          "output_type": "stream",
          "name": "stdout",
          "text": [
            "First 5 rows:\n",
            "    survived  pclass     sex   age  sibsp  parch     fare embarked  class  \\\n",
            "0         0       3    male  22.0      1      0   7.2500        S  Third   \n",
            "1         1       1  female  38.0      1      0  71.2833        C  First   \n",
            "2         1       3  female  26.0      0      0   7.9250        S  Third   \n",
            "3         1       1  female  35.0      1      0  53.1000        S  First   \n",
            "4         0       3    male  35.0      0      0   8.0500        S  Third   \n",
            "\n",
            "     who  adult_male deck  embark_town alive  alone  \n",
            "0    man        True  NaN  Southampton    no  False  \n",
            "1  woman       False    C    Cherbourg   yes  False  \n",
            "2  woman       False  NaN  Southampton   yes   True  \n",
            "3  woman       False    C  Southampton   yes  False  \n",
            "4    man        True  NaN  Southampton    no   True  \n",
            "\n",
            "Last 5 rows:\n",
            "      survived  pclass     sex   age  sibsp  parch   fare embarked   class  \\\n",
            "886         0       2    male  27.0      0      0  13.00        S  Second   \n",
            "887         1       1  female  19.0      0      0  30.00        S   First   \n",
            "888         0       3  female   NaN      1      2  23.45        S   Third   \n",
            "889         1       1    male  26.0      0      0  30.00        C   First   \n",
            "890         0       3    male  32.0      0      0   7.75        Q   Third   \n",
            "\n",
            "       who  adult_male deck  embark_town alive  alone  \n",
            "886    man        True  NaN  Southampton    no   True  \n",
            "887  woman       False    B  Southampton   yes   True  \n",
            "888  woman       False  NaN  Southampton    no  False  \n",
            "889    man        True    C    Cherbourg   yes   True  \n",
            "890    man        True  NaN   Queenstown    no   True  \n",
            "\n",
            "Shape of dataset: (891, 15)\n",
            "\n",
            "Columns and Data Types:\n",
            " survived          int64\n",
            "pclass            int64\n",
            "sex              object\n",
            "age             float64\n",
            "sibsp             int64\n",
            "parch             int64\n",
            "fare            float64\n",
            "embarked         object\n",
            "class          category\n",
            "who              object\n",
            "adult_male         bool\n",
            "deck           category\n",
            "embark_town      object\n",
            "alive            object\n",
            "alone              bool\n",
            "dtype: object\n",
            "\n",
            "Basic Statistics:\n",
            "          survived      pclass         age       sibsp       parch        fare\n",
            "count  891.000000  891.000000  891.000000  891.000000  891.000000  891.000000\n",
            "mean     0.383838    2.308642   29.361582    0.523008    0.381594   32.204208\n",
            "std      0.486592    0.836071   13.019697    1.102743    0.806057   49.693429\n",
            "min      0.000000    1.000000    0.420000    0.000000    0.000000    0.000000\n",
            "25%      0.000000    2.000000   22.000000    0.000000    0.000000    7.910400\n",
            "50%      0.000000    3.000000   28.000000    0.000000    0.000000   14.454200\n",
            "75%      1.000000    3.000000   35.000000    1.000000    0.000000   31.000000\n",
            "max      1.000000    3.000000   80.000000    8.000000    6.000000  512.329200\n",
            "\n",
            "✅ Data Cleaning Completed.\n"
          ]
        },
        {
          "output_type": "stream",
          "name": "stderr",
          "text": [
            "/tmp/ipython-input-940786508.py:18: FutureWarning: A value is trying to be set on a copy of a DataFrame or Series through chained assignment using an inplace method.\n",
            "The behavior will change in pandas 3.0. This inplace method will never work because the intermediate object on which we are setting values always behaves as a copy.\n",
            "\n",
            "For example, when doing 'df[col].method(value, inplace=True)', try using 'df.method({col: value}, inplace=True)' or df[col] = df[col].method(value) instead, to perform the operation inplace on the original object.\n",
            "\n",
            "\n",
            "  df_titanic[\"age\"].fillna(df_titanic[\"age\"].median(), inplace=True)\n",
            "/tmp/ipython-input-940786508.py:19: FutureWarning: A value is trying to be set on a copy of a DataFrame or Series through chained assignment using an inplace method.\n",
            "The behavior will change in pandas 3.0. This inplace method will never work because the intermediate object on which we are setting values always behaves as a copy.\n",
            "\n",
            "For example, when doing 'df[col].method(value, inplace=True)', try using 'df.method({col: value}, inplace=True)' or df[col] = df[col].method(value) instead, to perform the operation inplace on the original object.\n",
            "\n",
            "\n",
            "  df_titanic[\"embarked\"].fillna(df_titanic[\"embarked\"].mode()[0], inplace=True)\n"
          ]
        }
      ]
    },
    {
      "cell_type": "code",
      "source": [
        "#  Classification Evaluation\n",
        "import pandas as pd\n",
        "from sklearn.datasets import load_iris\n",
        "from sklearn.linear_model import LogisticRegression\n",
        "from sklearn.model_selection import train_test_split\n",
        "from sklearn.metrics import confusion_matrix, accuracy_score, precision_score, recall_score, f1_score\n",
        "\n",
        "# Load dataset\n",
        "iris = load_iris()\n",
        "df = pd.DataFrame(iris.data, columns=iris.feature_names)\n",
        "df[\"target\"] = iris.target\n",
        "\n",
        "# Binary classification: Versicolor vs not\n",
        "df[\"binary_target\"] = (df[\"target\"] == 1).astype(int)\n",
        "\n",
        "# Split data\n",
        "X = df[iris.feature_names]\n",
        "y = df[\"binary_target\"]\n",
        "X_train, X_test, y_train, y_test = train_test_split(X, y, test_size=0.3, random_state=42)\n",
        "\n",
        "# Train model\n",
        "model = LogisticRegression()\n",
        "model.fit(X_train, y_train)\n",
        "\n",
        "# Predictions\n",
        "y_pred = model.predict(X_test)\n",
        "\n",
        "# Confusion Matrix & Metrics\n",
        "cm = confusion_matrix(y_test, y_pred)\n",
        "acc = accuracy_score(y_test, y_pred)\n",
        "prec = precision_score(y_test, y_pred)\n",
        "rec = recall_score(y_test, y_pred)\n",
        "f1 = f1_score(y_test, y_pred)\n",
        "\n",
        "print(\"Confusion Matrix:\\n\", cm)\n",
        "print(f\"\\nAccuracy: {acc:.2f}\")\n",
        "print(f\"Precision: {prec:.2f}\")\n",
        "print(f\"Recall: {rec:.2f}\")\n",
        "print(f\"F1 Score: {f1:.2f}\")\n",
        "\n",
        "# Explanation\n",
        "print(\"\"\"\n",
        "📘 Metric Explanations:\n",
        "- Accuracy: Percentage of correctly predicted samples.\n",
        "- Precision: Of all predicted positives, how many are actually positive.\n",
        "- Recall: Of all actual positives, how many did the model correctly identify.\n",
        "- F1-Score: Harmonic mean of Precision and Recall — balances both.\n",
        "\"\"\")"
      ],
      "metadata": {
        "colab": {
          "base_uri": "https://localhost:8080/"
        },
        "id": "jDZIn13sGiNk",
        "outputId": "ae705416-c1a6-47c3-f3e5-34872bcb04e5"
      },
      "execution_count": 5,
      "outputs": [
        {
          "output_type": "stream",
          "name": "stdout",
          "text": [
            "Confusion Matrix:\n",
            " [[29  3]\n",
            " [ 9  4]]\n",
            "\n",
            "Accuracy: 0.73\n",
            "Precision: 0.57\n",
            "Recall: 0.31\n",
            "F1 Score: 0.40\n",
            "\n",
            "📘 Metric Explanations:\n",
            "- Accuracy: Percentage of correctly predicted samples.\n",
            "- Precision: Of all predicted positives, how many are actually positive.\n",
            "- Recall: Of all actual positives, how many did the model correctly identify.\n",
            "- F1-Score: Harmonic mean of Precision and Recall — balances both.\n",
            "\n"
          ]
        }
      ]
    }
  ]
}